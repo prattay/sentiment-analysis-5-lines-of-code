{
  "nbformat": 4,
  "nbformat_minor": 0,
  "metadata": {
    "colab": {
      "name": "Sentiment Analysis in 5 Lines",
      "provenance": []
    },
    "kernelspec": {
      "name": "python3",
      "display_name": "Python 3"
    }
  },
  "cells": [
    {
      "cell_type": "code",
      "metadata": {
        "id": "QvReD83x-XCw"
      },
      "source": [
        "from textblob import TextBlob\n"
      ],
      "execution_count": 3,
      "outputs": []
    },
    {
      "cell_type": "code",
      "metadata": {
        "colab": {
          "base_uri": "https://localhost:8080/"
        },
        "id": "I-kknEYt-e-F",
        "outputId": "e9980d1b-8fb1-4174-f0da-6d1893df5171"
      },
      "source": [
        "your_text = input(\"Enter the Text on which you want the Sentiment \")\n",
        "sentiment_object  = TextBlob(your_text)\n",
        "polarity_score = round(sentiment_object.sentiment.polarity,2)\n",
        "subjectivity_score = round(sentiment_object.sentiment.subjectivity,2)\n",
        "print(\"The Polarity of Sentiment of your Text is {} and Subjectivity of Your text is {} \".format( polarity_score , subjectivity_score))"
      ],
      "execution_count": 8,
      "outputs": [
        {
          "output_type": "stream",
          "text": [
            "Enter the Text on which you want the Sentiment I am bad boy but not that bad\n",
            "The Polarity of Sentiment of your Text is -0.7 and Subjectivity of Your text is 0.67 \n"
          ],
          "name": "stdout"
        }
      ]
    },
    {
      "cell_type": "code",
      "metadata": {
        "id": "xNipj0Yr-iw1"
      },
      "source": [
        ""
      ],
      "execution_count": null,
      "outputs": []
    },
    {
      "cell_type": "code",
      "metadata": {
        "id": "buERG0VN-lFq"
      },
      "source": [
        ""
      ],
      "execution_count": null,
      "outputs": []
    }
  ]
}